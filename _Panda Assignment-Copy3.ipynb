{
 "cells": [
  {
   "cell_type": "code",
   "execution_count": 65,
   "id": "2bd806e8",
   "metadata": {},
   "outputs": [
    {
     "name": "stdout",
     "output_type": "stream",
     "text": [
      "     Destination  Feedback Score  Average Rating  Hotel numbers  \\\n",
      "0         Madrid             8.0             3.7          298.0   \n",
      "1           Rome             8.5             4.0          380.0   \n",
      "2          Miami             9.0             4.2          460.0   \n",
      "3         London             7.5             4.0         1012.0   \n",
      "4     Madagascar             7.0             3.8          312.0   \n",
      "5         Venice             7.5             3.9          295.0   \n",
      "6        Nairobi             7.0             3.5          190.0   \n",
      "7       Capetown             9.0             4.2          456.0   \n",
      "8   Johannesburg             8.0             3.9          390.0   \n",
      "9          Dubai             9.5             4.5         1560.0   \n",
      "10         Tokyo             8.5             4.0          590.0   \n",
      "11     Hong Kong             9.0             4.3          402.0   \n",
      "12      New York             9.0             4.2          658.0   \n",
      "13    Manchester             6.5             3.4         1509.0   \n",
      "14        Kigali             6.0             3.4          259.0   \n",
      "\n",
      "          Most Visited Place  \n",
      "0               Prado Museum  \n",
      "1                   Pantheon  \n",
      "2                Miami Beach  \n",
      "3                Tate Modern  \n",
      "4   Ranomafana National Park  \n",
      "5         St Mark's Basilica  \n",
      "6              National Park  \n",
      "7                 Waterfront  \n",
      "8                    Sandton  \n",
      "9               Burj Khalifa  \n",
      "10            Sensoji Temple  \n",
      "11                Star Ferry  \n",
      "12               Time Square  \n",
      "13               Castlefield  \n",
      "14         Genocide Memorial  \n"
     ]
    }
   ],
   "source": [
    "import pandas as pd\n",
    "holiday = pd.read_csv(\"hols_dest.csv\")\n",
    "print(holiday)"
   ]
  },
  {
   "cell_type": "code",
   "execution_count": 41,
   "id": "901052a0",
   "metadata": {},
   "outputs": [
    {
     "data": {
      "text/plain": [
       "(15, 5)"
      ]
     },
     "execution_count": 41,
     "metadata": {},
     "output_type": "execute_result"
    }
   ],
   "source": [
    "holiday.shape"
   ]
  },
  {
   "cell_type": "code",
   "execution_count": 66,
   "id": "ad7e8a60",
   "metadata": {},
   "outputs": [
    {
     "name": "stdout",
     "output_type": "stream",
     "text": [
      "  Destination  Feedback Score  Average Rating  Hotel numbers  \\\n",
      "3      London             7.5             4.0         1012.0   \n",
      "4  Madagascar             7.0             3.8          312.0   \n",
      "5      Venice             7.5             3.9          295.0   \n",
      "6     Nairobi             7.0             3.5          190.0   \n",
      "7    Capetown             9.0             4.2          456.0   \n",
      "\n",
      "         Most Visited Place  \n",
      "3               Tate Modern  \n",
      "4  Ranomafana National Park  \n",
      "5        St Mark's Basilica  \n",
      "6             National Park  \n",
      "7                Waterfront  \n"
     ]
    }
   ],
   "source": [
    "print(holiday.iloc[3:8])"
   ]
  },
  {
   "cell_type": "code",
   "execution_count": 71,
   "id": "23912a68",
   "metadata": {},
   "outputs": [
    {
     "data": {
      "text/plain": [
       "584.7333333333333"
      ]
     },
     "execution_count": 71,
     "metadata": {},
     "output_type": "execute_result"
    }
   ],
   "source": [
    "holiday['Hotel numbers'].mean()"
   ]
  },
  {
   "cell_type": "code",
   "execution_count": 31,
   "id": "8a5e9da5",
   "metadata": {},
   "outputs": [
    {
     "data": {
      "text/plain": [
       "['298',\n",
       " '380',\n",
       " '460',\n",
       " '1,012',\n",
       " '312',\n",
       " '295',\n",
       " '190',\n",
       " '456',\n",
       " '390',\n",
       " '1,560',\n",
       " '590',\n",
       " '402',\n",
       " '658',\n",
       " '1,509',\n",
       " '259']"
      ]
     },
     "execution_count": 31,
     "metadata": {},
     "output_type": "execute_result"
    }
   ],
   "source": [
    "holiday[\"Hotel numbers\"].tolist()\n",
    "\n"
   ]
  },
  {
   "cell_type": "code",
   "execution_count": 68,
   "id": "5b757635",
   "metadata": {},
   "outputs": [
    {
     "data": {
      "text/plain": [
       "'Capetown'"
      ]
     },
     "execution_count": 68,
     "metadata": {},
     "output_type": "execute_result"
    }
   ],
   "source": [
    "holiday[\"Destination\"].min()"
   ]
  },
  {
   "cell_type": "code",
   "execution_count": 45,
   "id": "86bf6290",
   "metadata": {},
   "outputs": [
    {
     "data": {
      "text/plain": [
       "'Venice'"
      ]
     },
     "execution_count": 45,
     "metadata": {},
     "output_type": "execute_result"
    }
   ],
   "source": [
    "holiday[\"Destination\"].max()"
   ]
  },
  {
   "cell_type": "code",
   "execution_count": 72,
   "id": "39d504eb",
   "metadata": {},
   "outputs": [
    {
     "name": "stderr",
     "output_type": "stream",
     "text": [
      "C:\\Users\\hp\\AppData\\Local\\Temp\\ipykernel_3192\\1425169176.py:1: FutureWarning: Dropping of nuisance columns in DataFrame reductions (with 'numeric_only=None') is deprecated; in a future version this will raise TypeError.  Select only valid columns before calling the reduction.\n",
      "  holiday.mean()\n"
     ]
    },
    {
     "data": {
      "text/plain": [
       "Feedback Score      8.000000\n",
       "Average Rating      3.933333\n",
       "Hotel numbers     584.733333\n",
       "dtype: float64"
      ]
     },
     "execution_count": 72,
     "metadata": {},
     "output_type": "execute_result"
    }
   ],
   "source": [
    "holiday.mean()"
   ]
  },
  {
   "cell_type": "code",
   "execution_count": 57,
   "id": "6d4ed32a",
   "metadata": {},
   "outputs": [
    {
     "name": "stdout",
     "output_type": "stream",
     "text": [
      "0     False\n",
      "1      True\n",
      "2      True\n",
      "3     False\n",
      "4     False\n",
      "5     False\n",
      "6     False\n",
      "7      True\n",
      "8     False\n",
      "9      True\n",
      "10     True\n",
      "11     True\n",
      "12     True\n",
      "13    False\n",
      "14    False\n",
      "Name: Feedback Score, dtype: bool\n"
     ]
    }
   ],
   "source": [
    "myfilter = holiday[\"Feedback Score\"] > 8\n",
    "print(myfilter)"
   ]
  },
  {
   "cell_type": "code",
   "execution_count": 59,
   "id": "3297c982",
   "metadata": {},
   "outputs": [
    {
     "name": "stdout",
     "output_type": "stream",
     "text": [
      "0     False\n",
      "1     False\n",
      "2     False\n",
      "3     False\n",
      "4     False\n",
      "5     False\n",
      "6     False\n",
      "7     False\n",
      "8     False\n",
      "9     False\n",
      "10    False\n",
      "11    False\n",
      "12    False\n",
      "13    False\n",
      "14    False\n",
      "Name: Feedback Score, dtype: bool\n"
     ]
    }
   ],
   "source": [
    "mysecond_filter = holiday[\"Feedback Score\"] < 2\n",
    "print(mysecond_filter)"
   ]
  },
  {
   "cell_type": "code",
   "execution_count": 64,
   "id": "b9f4b627",
   "metadata": {},
   "outputs": [
    {
     "data": {
      "text/html": [
       "<div>\n",
       "<style scoped>\n",
       "    .dataframe tbody tr th:only-of-type {\n",
       "        vertical-align: middle;\n",
       "    }\n",
       "\n",
       "    .dataframe tbody tr th {\n",
       "        vertical-align: top;\n",
       "    }\n",
       "\n",
       "    .dataframe thead th {\n",
       "        text-align: right;\n",
       "    }\n",
       "</style>\n",
       "<table border=\"1\" class=\"dataframe\">\n",
       "  <thead>\n",
       "    <tr style=\"text-align: right;\">\n",
       "      <th></th>\n",
       "      <th>Feedback Score</th>\n",
       "      <th>Average Rating</th>\n",
       "    </tr>\n",
       "  </thead>\n",
       "  <tbody>\n",
       "    <tr>\n",
       "      <th>count</th>\n",
       "      <td>15.000000</td>\n",
       "      <td>15.000000</td>\n",
       "    </tr>\n",
       "    <tr>\n",
       "      <th>mean</th>\n",
       "      <td>8.000000</td>\n",
       "      <td>3.933333</td>\n",
       "    </tr>\n",
       "    <tr>\n",
       "      <th>std</th>\n",
       "      <td>1.052209</td>\n",
       "      <td>0.328778</td>\n",
       "    </tr>\n",
       "    <tr>\n",
       "      <th>min</th>\n",
       "      <td>6.000000</td>\n",
       "      <td>3.400000</td>\n",
       "    </tr>\n",
       "    <tr>\n",
       "      <th>25%</th>\n",
       "      <td>7.250000</td>\n",
       "      <td>3.750000</td>\n",
       "    </tr>\n",
       "    <tr>\n",
       "      <th>50%</th>\n",
       "      <td>8.000000</td>\n",
       "      <td>4.000000</td>\n",
       "    </tr>\n",
       "    <tr>\n",
       "      <th>75%</th>\n",
       "      <td>9.000000</td>\n",
       "      <td>4.200000</td>\n",
       "    </tr>\n",
       "    <tr>\n",
       "      <th>max</th>\n",
       "      <td>9.500000</td>\n",
       "      <td>4.500000</td>\n",
       "    </tr>\n",
       "  </tbody>\n",
       "</table>\n",
       "</div>"
      ],
      "text/plain": [
       "       Feedback Score  Average Rating\n",
       "count       15.000000       15.000000\n",
       "mean         8.000000        3.933333\n",
       "std          1.052209        0.328778\n",
       "min          6.000000        3.400000\n",
       "25%          7.250000        3.750000\n",
       "50%          8.000000        4.000000\n",
       "75%          9.000000        4.200000\n",
       "max          9.500000        4.500000"
      ]
     },
     "execution_count": 64,
     "metadata": {},
     "output_type": "execute_result"
    }
   ],
   "source": [
    "holiday.describe()"
   ]
  },
  {
   "cell_type": "code",
   "execution_count": null,
   "id": "862481a8",
   "metadata": {},
   "outputs": [],
   "source": []
  }
 ],
 "metadata": {
  "kernelspec": {
   "display_name": "Python 3 (ipykernel)",
   "language": "python",
   "name": "python3"
  },
  "language_info": {
   "codemirror_mode": {
    "name": "ipython",
    "version": 3
   },
   "file_extension": ".py",
   "mimetype": "text/x-python",
   "name": "python",
   "nbconvert_exporter": "python",
   "pygments_lexer": "ipython3",
   "version": "3.10.2"
  }
 },
 "nbformat": 4,
 "nbformat_minor": 5
}
